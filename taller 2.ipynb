{
  "nbformat": 4,
  "nbformat_minor": 0,
  "metadata": {
    "colab": {
      "name": "Untitled5.ipynb",
      "provenance": [],
      "authorship_tag": "ABX9TyMsFSPCjJWaA+YOuZ8QQRZ1",
      "include_colab_link": true
    },
    "kernelspec": {
      "name": "python3",
      "display_name": "Python 3"
    },
    "language_info": {
      "name": "python"
    }
  },
  "cells": [
    {
      "cell_type": "markdown",
      "metadata": {
        "id": "view-in-github",
        "colab_type": "text"
      },
      "source": [
        "<a href=\"https://colab.research.google.com/github/lufegaro21/Luisa_GarciaRondon_KC/blob/main/taller%202.ipynb\" target=\"_parent\"><img src=\"https://colab.research.google.com/assets/colab-badge.svg\" alt=\"Open In Colab\"/></a>"
      ]
    },
    {
      "cell_type": "code",
      "metadata": {
        "colab": {
          "base_uri": "https://localhost:8080/"
        },
        "id": "8Lzi2I96vu8P",
        "outputId": "6213cb9f-b238-4d47-e915-2c7d28658cf2"
      },
      "source": [
        "\"\"\"\n",
        "Números palindromos:\n",
        "Escriba una funcion que reciba un número entero (positivo) o un string y entregue como respuesta si la entrada es o no palindromo.\n",
        "\n",
        "\"\"\"\n",
        "texto = input (\"Ingrese un texto: \")\n",
        "texto_al_reves = texto[::-1] \n",
        "if (texto == texto_al_reves):\n",
        "  print(\"Es palindromo\")\n",
        "\n",
        "else:\n",
        "  print(\"No es palindromo\")"
      ],
      "execution_count": 19,
      "outputs": [
        {
          "output_type": "stream",
          "text": [
            "Ingrese un texto: oso\n",
            "Es palindromo\n"
          ],
          "name": "stdout"
        }
      ]
    },
    {
      "cell_type": "code",
      "metadata": {
        "colab": {
          "base_uri": "https://localhost:8080/"
        },
        "id": "g-L7TrZDybn6",
        "outputId": "c9c1e8b8-3432-47da-af1f-dfb79e9699e8"
      },
      "source": [
        "\"\"\"\n",
        "Numeros primos:\n",
        "Escriba una función que reciba como entrada un número y determine si es o no un número primo:\n",
        "\n",
        "\"\"\"\n",
        "p = int(2);\n",
        "band = \"v\"\n",
        "numero = int(input(\"> ingresar número: \"));\n",
        "while((band == \"v\") and (p < numero)):\n",
        "\n",
        "  if ((numero % p) == 0):\n",
        "       band = \"f\";\n",
        "  else:\n",
        "     p = p + 1;\n",
        "    \n",
        "  if (band == \"v\"):\n",
        "      print(\"es un número primo\");\n",
        "  \n",
        "  else: \n",
        "      print(\"no es un número primo\");"
      ],
      "execution_count": 15,
      "outputs": [
        {
          "output_type": "stream",
          "text": [
            "> ingresar número: 12\n",
            "no es un número primo\n"
          ],
          "name": "stdout"
        }
      ]
    },
    {
      "cell_type": "code",
      "metadata": {
        "id": "opNzhVgp1cSI"
      },
      "source": [
        "\"\"\"\n",
        "\n",
        "Números primos 2:\n",
        "Escriba una función que devuelva una lista de numeros primos con base a la cantidada que el usuario solicite, Ejemplo si el usuario ingresa 3 debe retornar los 3 primeros numeros primos.\n",
        "\n",
        "\"\"\"\n",
        "\n"
      ],
      "execution_count": null,
      "outputs": []
    },
    {
      "cell_type": "code",
      "metadata": {
        "colab": {
          "base_uri": "https://localhost:8080/",
          "height": 72
        },
        "id": "QYKpe6RK4NKh",
        "outputId": "75208e92-76b6-4a30-aa0e-298bf682acf8"
      },
      "source": [
        "\"\"\"\n",
        "Números primos 3:\n",
        "El primo de Mersenne es un numero primo de la forma 2p - 1, una de las propiedades de los primos de Mersenne es que p debe ser también un número primo, escriba una función que imprima la cantidad de numeros que el usuario solicite,\n",
        "Ejemplo: si el usuario ingreso 3 los numeros primeros números primos de Mersenne deberían ser 3, 7 y 31.\n",
        "\n",
        "\"\"\"\n",
        "\n"
      ],
      "execution_count": 50,
      "outputs": [
        {
          "output_type": "execute_result",
          "data": {
            "application/vnd.google.colaboratory.intrinsic+json": {
              "type": "string"
            },
            "text/plain": [
              "'\\nNúmeros primos 3:\\nEl primo de Mersenne es un numero primo de la forma 2p - 1, una de las propiedades de los primos de Mersenne es que p debe ser también un número primo, escriba una función que imprima la cantidad de numeros que el usuario solicite,\\nEjemplo: si el usuario ingreso 3 los numeros primeros números primos de Mersenne deberían ser 3, 7 y 31.\\n\\n'"
            ]
          },
          "metadata": {
            "tags": []
          },
          "execution_count": 50
        }
      ]
    },
    {
      "cell_type": "code",
      "metadata": {
        "colab": {
          "base_uri": "https://localhost:8080/"
        },
        "id": "SRVn7GpU5AJ7",
        "outputId": "d3134b27-77a8-4364-a610-caff7cfece06"
      },
      "source": [
        "\"\"\"\n",
        "Máximo común divisor:\n",
        "Escriba una función que reciba dos numeros y retorne el calculo de su maximo común divisor.\n",
        "\n",
        "\"\"\"\n",
        "\n",
        "def mcd  (x,y):\n",
        " mcd = 1\n",
        "\n",
        " if x % y == 0: \n",
        "    return y \n",
        "\n",
        " for k in range(int(y/2), 0, -1):\n",
        "   if x % k == 0 and y % k == 0:\n",
        "     mcd = k\n",
        "     break \n",
        "\n",
        "    \n",
        " return mcd\n",
        "\n",
        "print(mcd(18,6))"
      ],
      "execution_count": 33,
      "outputs": [
        {
          "output_type": "stream",
          "text": [
            "6\n"
          ],
          "name": "stdout"
        }
      ]
    },
    {
      "cell_type": "code",
      "metadata": {
        "colab": {
          "base_uri": "https://localhost:8080/",
          "height": 135
        },
        "id": "hogIcC1B5VPF",
        "outputId": "daa6901d-f2d5-43af-80db-b8b20aa823cc"
      },
      "source": [
        "\"\"\"\n",
        "Numeros romanos:\n",
        "Escriba una funcion que reciba un numero y retorne como resultado el numero romano de dicho número.\n",
        "\n",
        "\"\"\"\n",
        "import math\n",
        "Unidad=[\"\", \"I\", \"II\", \"III\", \"IV\", \"V\", \"VI\", \"VII\", \"VIII\", \"IX\"]\n",
        "Decena=[\"\", \"X\", \"XX\", \"XXX\", \"XL\", \"L\", \"LX\", \"LXX\", \"LXXX\", \"XC\"]\n",
        "Centena=[\"\", \"C\" \"CC\", \"CCC\", \"CD\", \"D\", \"DC\", \"DCC\", \"DCCC\", \"CM\"]\n",
        "\n",
        "N=int(input(\"Ingresar número entero\"))\n",
        "u= N % 10\n",
        "d=int(math.floor(N/10))%10\n",
        "c=int(math.floor(N/100))\n",
        "    if (N>=100):\n",
        "  print(Centena[c]+Decena[d]+Unidad[u])\n",
        "    else:\n",
        "   if (N>=10):\n",
        "    print(Centena[c]+Decena[d])\n",
        "   else: \n",
        "  print(Unidad[u])"
      ],
      "execution_count": 54,
      "outputs": [
        {
          "output_type": "error",
          "ename": "IndentationError",
          "evalue": "ignored",
          "traceback": [
            "\u001b[0;36m  File \u001b[0;32m\"<ipython-input-54-e3a30feecbce>\"\u001b[0;36m, line \u001b[0;32m15\u001b[0m\n\u001b[0;31m    if (N>=100):\u001b[0m\n\u001b[0m    ^\u001b[0m\n\u001b[0;31mIndentationError\u001b[0m\u001b[0;31m:\u001b[0m unexpected indent\n"
          ]
        }
      ]
    },
    {
      "cell_type": "code",
      "metadata": {
        "id": "LPV6p_peBYGP"
      },
      "source": [
        ""
      ],
      "execution_count": null,
      "outputs": []
    },
    {
      "cell_type": "markdown",
      "metadata": {
        "id": "Qef2CxdJxaql"
      },
      "source": [
        ""
      ]
    }
  ]
}